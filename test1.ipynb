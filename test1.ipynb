{
 "cells": [
  {
   "cell_type": "code",
   "execution_count": 3,
   "metadata": {},
   "outputs": [
    {
     "name": "stdout",
     "output_type": "stream",
     "text": [
      "Files in data/:\n",
      "filename: can_1054.mtx\n",
      "filename: can_1072.mtx\n",
      "filename: can__144.mtx\n",
      "filename: can__229.mtx\n",
      "filename: can__445.mtx\n",
      "filename: can__838.mtx\n",
      "filename: can___24.mtx\n",
      "filename: can___96.mtx\n",
      "filename: dwt__209.mtx\n",
      "filename: dwt__361.mtx\n",
      "filename: dwt__492.mtx\n",
      "filename: dwt__592.mtx\n",
      "filename: dwt__992.mtx\n",
      "filename: impcol_a.mtx\n",
      "filename: impcol_b.mtx\n",
      "filename: impcol_c.mtx\n",
      "filename: impcol_d.mtx\n",
      "filename: impcol_e.mtx\n"
     ]
    }
   ],
   "source": [
    "from utils import list_files_in_directory\n",
    "\n",
    "folder_path = 'data/'\n",
    "filenames = list_files_in_directory(folder_path)"
   ]
  },
  {
   "cell_type": "code",
   "execution_count": 4,
   "metadata": {},
   "outputs": [
    {
     "name": "stdout",
     "output_type": "stream",
     "text": [
      "python main.py --matrix_name can_1054.mtx\n",
      "python main.py --matrix_name can_1072.mtx\n",
      "python main.py --matrix_name can__144.mtx\n",
      "python main.py --matrix_name can__229.mtx\n",
      "python main.py --matrix_name can__445.mtx\n",
      "python main.py --matrix_name can__838.mtx\n",
      "python main.py --matrix_name can___24.mtx\n",
      "python main.py --matrix_name can___96.mtx\n",
      "python main.py --matrix_name dwt__209.mtx\n",
      "python main.py --matrix_name dwt__361.mtx\n",
      "python main.py --matrix_name dwt__492.mtx\n",
      "python main.py --matrix_name dwt__592.mtx\n",
      "python main.py --matrix_name dwt__992.mtx\n",
      "python main.py --matrix_name impcol_a.mtx\n",
      "python main.py --matrix_name impcol_b.mtx\n",
      "python main.py --matrix_name impcol_c.mtx\n",
      "python main.py --matrix_name impcol_d.mtx\n",
      "python main.py --matrix_name impcol_e.mtx\n"
     ]
    }
   ],
   "source": [
    "for file_name in filenames:\n",
    "    print('python main.py --matrix_name {}'.format(file_name))"
   ]
  }
 ],
 "metadata": {
  "kernelspec": {
   "display_name": "gnc",
   "language": "python",
   "name": "python3"
  },
  "language_info": {
   "codemirror_mode": {
    "name": "ipython",
    "version": 3
   },
   "file_extension": ".py",
   "mimetype": "text/x-python",
   "name": "python",
   "nbconvert_exporter": "python",
   "pygments_lexer": "ipython3",
   "version": "3.7.1"
  }
 },
 "nbformat": 4,
 "nbformat_minor": 2
}
